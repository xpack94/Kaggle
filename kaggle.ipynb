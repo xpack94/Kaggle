{
 "cells": [
  {
   "cell_type": "code",
   "execution_count": 2,
   "metadata": {
    "collapsed": false
   },
   "outputs": [],
   "source": [
    "# Import libraries\n",
    "import numpy as np\n",
    "import pandas as pd\n",
    "import matplotlib.pyplot as plt\n",
    "import tensorflow as tf\n",
    "from tqdm import tqdm\n",
    "from tensorflow.examples.tutorials.mnist import input_data\n",
    "from sklearn.preprocessing import LabelBinarizer\n",
    "from skimage.restoration import *\n",
    "from skimage import data, img_as_float\n",
    "import cv2\n",
    "\n",
    "import random\n",
    "from scipy import ndarray\n",
    "import skimage as sk\n",
    "from skimage import transform\n",
    "from skimage import util\n",
    "\n",
    "%matplotlib inline\n",
    "import os\n",
    "from sklearn.utils import shuffle\n",
    "os.environ[\"CUDA_VISIBLE_DEVICES\"]=\"0\" #for training on gpu\n"
   ]
  },
  {
   "cell_type": "code",
   "execution_count": 3,
   "metadata": {
    "collapsed": false
   },
   "outputs": [
    {
     "name": "stdout",
     "output_type": "stream",
     "text": [
      "(8000, 100, 100) (2000, 100, 100) (2000, 31)\n"
     ]
    }
   ],
   "source": [
    "train = np.load(\"./train_images.npy\", encoding = 'bytes')\n",
    "test = np.load(\"./test_images.npy\", encoding = 'bytes')\n",
    "train_labels = pd.read_csv(\"./train_labels.csv\")\n",
    "\n",
    "x_train = train[:,1]\n",
    "x_test = test[:,1]\n",
    "x_train /= 255\n",
    "x_test /= 255\n",
    "\n",
    "train_labs = pd.factorize(train_labels['Category'])\n",
    "train_lab = train_labs[0]\n",
    "\n",
    "x_train = np.array([np.array(x) for x in x_train])\n",
    "x_test = np.array([np.array(x) for x in x_test])\n",
    "\n",
    "x_train = x_train.reshape((10000,100,100))\n",
    "x_test = x_test.reshape((10000,100,100))\n",
    "\n",
    "lb = LabelBinarizer()\n",
    "y_train = lb.fit_transform(train_lab)\n",
    "x_train,y_train = shuffle(x_train,y_train, random_state = 0)\n",
    "\n",
    "train_X = x_train[:8000]\n",
    "train_y = y_train[:8000]\n",
    "test_X = x_train[8000:]\n",
    "test_y = y_train[8000:]\n",
    "IMAGE_SIZE = 100\n",
    "print(train_X.shape,test_X.shape,test_y.shape)\n",
    "\n",
    "z = train_labels.drop_duplicates('Category')\n",
    "z= z.reset_index()\n",
    "z = z['Category']\n",
    "label_dict = z.to_dict()"
   ]
  },
  {
   "cell_type": "code",
   "execution_count": 4,
   "metadata": {
    "collapsed": false
   },
   "outputs": [
    {
     "data": {
      "text/plain": [
       "<matplotlib.image.AxesImage at 0x7fadee585710>"
      ]
     },
     "execution_count": 4,
     "metadata": {},
     "output_type": "execute_result"
    },
    {
     "data": {
      "image/png": "[encoded data removed]",
      "text/plain": [
       "<matplotlib.figure.Figure at 0x7fadee8d46d8>"
      ]
     },
     "metadata": {},
     "output_type": "display_data"
    }
   ],
   "source": [
    "plt.figure(figsize=[5,5])\n",
    "\n",
    "# Display the first image in training data\n",
    "plt.subplot(121)\n",
    "curr_img = np.reshape(train_X[0], (100,100))\n",
    "curr_lbl = np.argmax(y_train[0])\n",
    "plt.imshow(curr_img, cmap='gray')\n",
    "# plt.title(\"(Label: \" + str(label_dict[curr_lbl]) + \")\")\n",
    "\n",
    "# Display the first image in testing data\n",
    "plt.subplot(122)\n",
    "curr_img = np.reshape(test_X[0], (100,100))\n",
    "curr_lbl = np.argmax(y_train[0])\n",
    "plt.imshow(curr_img, cmap='gray')\n",
    "# plt.title(\"(Label: \" + str(label_dict[curr_lbl]) + \")\")"
   ]
  },
  {
   "cell_type": "code",
   "execution_count": 14,
   "metadata": {
    "collapsed": false
   },
   "outputs": [],
   "source": [
    "def denoise(noisy,s1,s2,s3,s4):\n",
    "    se1 = cv2.getStructuringElement(cv2.MORPH_RECT, (s1,s1))\n",
    "    se2 = cv2.getStructuringElement(cv2.MORPH_RECT, (s2,s2))\n",
    "    se3 = cv2.getStructuringElement(cv2.MORPH_RECT, (s3,s3))\n",
    "    se4 = cv2.getStructuringElement(cv2.MORPH_RECT, (s4,s4))\n",
    "    mask = cv2.morphologyEx(noisy, cv2.MORPH_CLOSE, se1)\n",
    "    mask = cv2.morphologyEx(mask, cv2.MORPH_OPEN, se2)\n",
    "    mask = cv2.morphologyEx(mask, cv2.MORPH_OPEN, se3)\n",
    "    mask = cv2.morphologyEx(mask, cv2.MORPH_OPEN, se4)\n",
    "\n",
    "    out = (noisy * mask)/255\n",
    "    return out\n",
    "\n",
    "\n",
    "def random_rotation(image_array: ndarray):\n",
    "    # pick a random degree of rotation between 25% on the left and 25% on the right\n",
    "    random_degree = (-25,25)\n",
    "    return sk.transform.rotate(image_array, random_degree, preserve_range=True).astype(np.uint8)\n",
    "\n",
    "def random_noise(image_array: ndarray):\n",
    "    # add random noise to the image\n",
    "    return sk.util.random_noise(image_array)\n",
    "\n",
    "def horizontal_flip(image_array: ndarray):\n",
    "    # horizontal flip doesn't need skimage, it's easy as flipping the image array of pixels !\n",
    "    return image_array[:, ::-1]\n"
   ]
  },
  {
   "cell_type": "code",
   "execution_count": null,
   "metadata": {
    "collapsed": false
   },
   "outputs": [],
   "source": [
    "plt.subplot(121)\n",
    "curr_img = np.reshape(test_X[0], (100,100))\n",
    "curr_lbl = np.argmax(y_train[0])\n",
    "plt.imshow(curr_img, cmap='gray')\n",
    "plt.subplot(122)\n",
    "\n",
    "plt.imshow(denoise(test_X[1],8,4,4,1), cmap='gray')"
   ]
  },
  {
   "cell_type": "code",
   "execution_count": null,
   "metadata": {
    "collapsed": false
   },
   "outputs": [],
   "source": [
    "tr1_X = train_X.copy()\n",
    "te1_X = test_X.copy()\n",
    "tr2_X = train_X.copy()\n",
    "te2_X = test_X.copy()\n",
    "for i in tqdm(range(len(train_X)),desc='denoising train'):\n",
    "    tr1_X[i] = denoise(tr1_X[i],7,5,5,1)\n",
    "for i in tqdm(range(len(test_X)),desc='denoising test'):\n",
    "    te1_X[i] = denoise(te1_X[i],7,5,5,1)\n",
    "\n",
    "for i in tqdm(range(len(train_X)),desc='denoising train'):\n",
    "    tr2_X[i] = denoise(tr2_X[i],5,5,5,1)\n",
    "for i in tqdm(range(len(test_X)),desc='denoising test'):\n",
    "    te2_X[i] = denoise(te2_X[i],5,5,5,1)\n"
   ]
  },
  {
   "cell_type": "code",
   "execution_count": 15,
   "metadata": {
    "collapsed": false
   },
   "outputs": [],
   "source": [
    "# tr_randrot = random_rotation(train_X)\n",
    "tr_hor_flip = horizontal_flip(train_X)\n",
    "# te_randrot = random_rotation(train_X)\n",
    "# te_hor_flip = horizontal_flip(test_X)\n",
    "\n",
    "train_X = np.row_stack((train_X,tr_hor_flip))\n",
    "# test_X = np.row_stack((test_X,te_X,te_randrot,te_hor_flip))\n",
    "train_y = np.row_stack((train_y,train_y))\n",
    "# test_y = np.row_stack((test_y))"
   ]
  },
  {
   "cell_type": "code",
   "execution_count": null,
   "metadata": {
    "collapsed": false
   },
   "outputs": [],
   "source": [
    "plt.imshow(tr_randrot[1], cmap='gray')"
   ]
  },
  {
   "cell_type": "code",
   "execution_count": 16,
   "metadata": {
    "collapsed": false
   },
   "outputs": [],
   "source": [
    "train_X, train_y = shuffle(train_X,train_y, random_state = 0)"
   ]
  },
  {
   "cell_type": "code",
   "execution_count": null,
   "metadata": {
    "collapsed": false
   },
   "outputs": [],
   "source": [
    "def central_scale_images(X_imgs, scales):\n",
    "    # Various settings needed for Tensorflow operation\n",
    "    boxes = np.zeros((len(scales), 4), dtype = np.float32)\n",
    "    for index, scale in enumerate(scales):\n",
    "        x1 = y1 = 0.5 - 0.5 * scale # To scale centrally\n",
    "        x2 = y2 = 0.5 + 0.5 * scale\n",
    "        boxes[index] = np.array([y1, x1, y2, x2], dtype = np.float32)\n",
    "    box_ind = np.zeros((len(scales)), dtype = np.int32)\n",
    "    crop_size = np.array([IMAGE_SIZE, IMAGE_SIZE], dtype = np.int32)\n",
    "    \n",
    "    X_scale_data = []\n",
    "    tf.reset_default_graph()\n",
    "    X = tf.placeholder(tf.float32, shape = (?, IMAGE_SIZE, IMAGE_SIZE, 1))\n",
    "    # Define Tensorflow operation for all scales but only one base image at a time\n",
    "    tf_img = tf.image.crop_and_resize(X, boxes, box_ind, crop_size)\n",
    "    with tf.Session() as sess:\n",
    "        sess.run(tf.global_variables_initializer())\n",
    "        \n",
    "        for img_data in X_imgs:\n",
    "            batch_img = np.expand_dims(img_data, axis = 0)\n",
    "            scaled_imgs = sess.run(tf_img, feed_dict = {X: batch_img})\n",
    "            X_scale_data.extend(scaled_imgs)\n",
    "    \n",
    "    X_scale_data = np.array(X_scale_data, dtype = np.float32)\n",
    "    return X_scale_data\n",
    "\t\n",
    "# Produce each image at scaling of 90%, 75% and 60% of original image.\n",
    "scaled_imgs = central_scale_images(train_X, [0.90, 0.75, 0.60])"
   ]
  },
  {
   "cell_type": "code",
   "execution_count": null,
   "metadata": {
    "collapsed": false
   },
   "outputs": [],
   "source": [
    "curr_img = np.reshape(train_X[0], (100,100))\n",
    "plt.imshow(curr_img)"
   ]
  },
  {
   "cell_type": "code",
   "execution_count": 6,
   "metadata": {
    "collapsed": false
   },
   "outputs": [
    {
     "name": "stdout",
     "output_type": "stream",
     "text": [
      "(8000, 100, 100, 1) (2000, 100, 100, 1)\n"
     ]
    }
   ],
   "source": [
    "# Reshape training and testing image\n",
    "train_X = train_X.reshape(-1, 100, 100, 1)\n",
    "test_X = test_X.reshape(-1,100,100,1)\n",
    "print(train_X.shape,test_X.shape)"
   ]
  },
  {
   "cell_type": "code",
   "execution_count": null,
   "metadata": {
    "collapsed": true
   },
   "outputs": [],
   "source": [
    "def images_preprocessing(images):\n",
    "    list_hog_fd = []\n",
    "    for feature in tqdm(images):\n",
    "            fd = hog(feature, orientations=196, pixels_per_cell=(14, 14), cells_per_block=(1, 1), visualise=False)\n",
    "            list_hog_fd.append(fd)\n",
    "    return np.array(list_hog_fd, 'float64')"
   ]
  },
  {
   "cell_type": "code",
   "execution_count": 7,
   "metadata": {
    "collapsed": false
   },
   "outputs": [],
   "source": [
    "training_iters = 200 \n",
    "learning_rate = 0.01 \n",
    "batch_size = 128\n",
    "\n",
    "# MNIST data input (img shape: 28*28)\n",
    "n_input = 100\n",
    "\n",
    "# MNIST total classes (0-9 digits)\n",
    "n_classes = 31"
   ]
  },
  {
   "cell_type": "code",
   "execution_count": 8,
   "metadata": {
    "collapsed": false
   },
   "outputs": [],
   "source": [
    "#both placeholders are of type float\n",
    "x = tf.placeholder(\"float\", [None, 100,100,1])\n",
    "y = tf.placeholder(\"float\", [None, n_classes])\n",
    "\n",
    "def conv2d(x, W, b, strides=1):\n",
    "    # Conv2D wrapper, with bias and relu activation\n",
    "    x = tf.nn.conv2d(x, W, strides=[1, strides, strides, 1], padding='SAME')\n",
    "    x = tf.nn.bias_add(x, b)\n",
    "    return tf.nn.relu(x) \n",
    "\n",
    "def maxpool2d(x, k=2):\n",
    "    return tf.nn.max_pool(x, ksize=[1, k, k, 1], strides=[1, k, k, 1],padding='SAME')\n"
   ]
  },
  {
   "cell_type": "code",
   "execution_count": 9,
   "metadata": {
    "collapsed": false
   },
   "outputs": [],
   "source": [
    "weights = {\n",
    "    'wc1': tf.get_variable('W0', shape=(3,3,1,16), initializer=tf.contrib.layers.xavier_initializer()), \n",
    "    'wc2': tf.get_variable('W1', shape=(3,3,16,32), initializer=tf.contrib.layers.xavier_initializer()), \n",
    "    'wc3': tf.get_variable('W2', shape=(3,3,32,64), initializer=tf.contrib.layers.xavier_initializer()), \n",
    "#     'wc4': tf.get_variable('W3', shape=(3,3,128,256), initializer=tf.contrib.layers.xavier_initializer()), \n",
    "    'wd1': tf.get_variable('W4', shape=(13*13*64,64), initializer=tf.contrib.layers.xavier_initializer()), \n",
    "    'out': tf.get_variable('W6', shape=(64,n_classes), initializer=tf.contrib.layers.xavier_initializer()), \n",
    "}\n",
    "biases = {\n",
    "    'bc1': tf.get_variable('B0', shape=(16), initializer=tf.contrib.layers.xavier_initializer()),\n",
    "    'bc2': tf.get_variable('B1', shape=(32), initializer=tf.contrib.layers.xavier_initializer()),\n",
    "    'bc3': tf.get_variable('B2', shape=(64), initializer=tf.contrib.layers.xavier_initializer()),\n",
    "#     'bc4': tf.get_variable('B3', shape=(256), initializer=tf.contrib.layers.xavier_initializer()),\n",
    "    'bd1': tf.get_variable('B4', shape=(64), initializer=tf.contrib.layers.xavier_initializer()),\n",
    "    'out': tf.get_variable('B5', shape=(n_classes), initializer=tf.contrib.layers.xavier_initializer()),\n",
    "}"
   ]
  },
  {
   "cell_type": "code",
   "execution_count": 10,
   "metadata": {
    "collapsed": true
   },
   "outputs": [],
   "source": [
    "def conv_net(x, weights, biases):  \n",
    "\n",
    "    # here we call the conv2d function we had defined above and pass the input image x, weights wc1 and bias bc1.\n",
    "    conv1 = conv2d(x, weights['wc1'], biases['bc1'])\n",
    "    print(conv1)\n",
    "    # Max Pooling (down-sampling), this chooses the max value from a 2*2 matrix window and outputs a 14*14 matrix.\n",
    "    conv1 = maxpool2d(conv1, k=2)\n",
    "    print(conv1)\n",
    "\n",
    "    # Convolution Layer\n",
    "    # here we call the conv2d function we had defined above and pass the input image x, weights wc2 and bias bc2.\n",
    "    conv2 = conv2d(conv1, weights['wc2'], biases['bc2'])\n",
    "    print(conv2)\n",
    "    # Max Pooling (down-sampling), this chooses the max value from a 2*2 matrix window and outputs a 7*7 matrix.\n",
    "    conv2 = maxpool2d(conv2, k=2)\n",
    "    print(conv2)\n",
    "\n",
    "    conv3 = conv2d(conv2, weights['wc3'], biases['bc3'])\n",
    "    print(conv3)\n",
    "\n",
    "    # Max Pooling (down-sampling), this chooses the max value from a 2*2 matrix window and outputs a 4*4.\n",
    "    conv3 = maxpool2d(conv3, k=2)\n",
    "    print(conv3)\n",
    "    \n",
    "#     conv4 = conv2d(conv3, weights['wc4'], biases['bc4'])\n",
    "#     print(conv4)\n",
    "\n",
    "#     # Max Pooling (down-sampling), this chooses the max value from a 2*2 matrix window and outputs a 4*4.\n",
    "#     conv4 = maxpool2d(conv4, k=2)\n",
    "#     print(conv4)\n",
    "    \n",
    "    \n",
    "\n",
    "\n",
    "    # Fully connected layer\n",
    "    # Reshape conv2 output to fit fully connected layer input\n",
    "    fc1 = tf.reshape(conv3, [-1, weights['wd1'].get_shape().as_list()[0]])\n",
    "    print(fc1)\n",
    "\n",
    "    fc1 = tf.add(tf.matmul(fc1, weights['wd1']), biases['bd1'])\n",
    "    fc1 = tf.nn.relu(fc1)\n",
    "    # Output, class prediction\n",
    "    # finally we multiply the fully connected layer with the weights and add a bias term. \n",
    "    out = tf.add(tf.matmul(fc1, weights['out']), biases['out'])\n",
    "    print(out)\n",
    "    drop = tf.layers.dropout(inputs=out, rate=0.4)\n",
    "    print(drop)\n",
    "\n",
    "    return drop"
   ]
  },
  {
   "cell_type": "code",
   "execution_count": 11,
   "metadata": {
    "collapsed": false,
    "scrolled": true
   },
   "outputs": [
    {
     "name": "stdout",
     "output_type": "stream",
     "text": [
      "Tensor(\"Relu:0\", shape=(?, 100, 100, 16), dtype=float32)\n",
      "Tensor(\"MaxPool:0\", shape=(?, 50, 50, 16), dtype=float32)\n",
      "Tensor(\"Relu_1:0\", shape=(?, 50, 50, 32), dtype=float32)\n",
      "Tensor(\"MaxPool_1:0\", shape=(?, 25, 25, 32), dtype=float32)\n",
      "Tensor(\"Relu_2:0\", shape=(?, 25, 25, 64), dtype=float32)\n",
      "Tensor(\"MaxPool_2:0\", shape=(?, 13, 13, 64), dtype=float32)\n",
      "Tensor(\"Reshape:0\", shape=(?, 10816), dtype=float32)\n",
      "Tensor(\"Add_1:0\", shape=(?, 31), dtype=float32)\n",
      "Tensor(\"dropout/Identity:0\", shape=(?, 31), dtype=float32)\n"
     ]
    }
   ],
   "source": [
    "pred = conv_net(x, weights, biases)\n",
    "\n",
    "cost = tf.reduce_mean(tf.nn.softmax_cross_entropy_with_logits_v2(logits=pred, labels=y))\n",
    "\n",
    "optimizer = tf.train.AdamOptimizer(learning_rate=learning_rate).minimize(cost)"
   ]
  },
  {
   "cell_type": "code",
   "execution_count": 12,
   "metadata": {
    "collapsed": false
   },
   "outputs": [],
   "source": [
    "#Here you check whether the index of the maximum value of the predicted image is equal to the actual labelled image. and both will be a column vector.\n",
    "correct_prediction = tf.equal(tf.argmax(pred, 1), tf.argmax(y, 1))\n",
    "\n",
    "#calculate accuracy across all the given images and average them out. \n",
    "accuracy = tf.reduce_mean(tf.cast(correct_prediction, tf.float32))\n",
    "\n",
    "# Initializing the variables\n",
    "init = tf.global_variables_initializer()"
   ]
  },
  {
   "cell_type": "code",
   "execution_count": null,
   "metadata": {
    "collapsed": false,
    "scrolled": false
   },
   "outputs": [
    {
     "name": "stderr",
     "output_type": "stream",
     "text": [
      "100%|██████████| 125/125 [03:15<00:00,  1.38s/it]\n"
     ]
    },
    {
     "name": "stdout",
     "output_type": "stream",
     "text": [
      "Iter 0, Loss= 3.358326, Training Accuracy= 0.06250\n",
      "Optimization Finished!\n"
     ]
    },
    {
     "name": "stderr",
     "output_type": "stream",
     "text": [
      "\r",
      "  0%|          | 0/125 [00:00<?, ?it/s]"
     ]
    },
    {
     "name": "stdout",
     "output_type": "stream",
     "text": [
      "Testing Accuracy: 0.06000\n"
     ]
    },
    {
     "name": "stderr",
     "output_type": "stream",
     "text": [
      "100%|██████████| 125/125 [02:52<00:00,  1.36s/it]\n"
     ]
    },
    {
     "name": "stdout",
     "output_type": "stream",
     "text": [
      "Iter 1, Loss= 3.357289, Training Accuracy= 0.06250\n",
      "Optimization Finished!\n"
     ]
    },
    {
     "name": "stderr",
     "output_type": "stream",
     "text": [
      "\r",
      "  0%|          | 0/125 [00:00<?, ?it/s]"
     ]
    },
    {
     "name": "stdout",
     "output_type": "stream",
     "text": [
      "Testing Accuracy: 0.06000\n"
     ]
    },
    {
     "name": "stderr",
     "output_type": "stream",
     "text": [
      "100%|██████████| 125/125 [02:51<00:00,  1.71s/it]\n"
     ]
    },
    {
     "name": "stdout",
     "output_type": "stream",
     "text": [
      "Iter 2, Loss= 3.356713, Training Accuracy= 0.06250\n",
      "Optimization Finished!\n"
     ]
    },
    {
     "name": "stderr",
     "output_type": "stream",
     "text": [
      "\r",
      "  0%|          | 0/125 [00:00<?, ?it/s]"
     ]
    },
    {
     "name": "stdout",
     "output_type": "stream",
     "text": [
      "Testing Accuracy: 0.06000\n"
     ]
    },
    {
     "name": "stderr",
     "output_type": "stream",
     "text": [
      "100%|██████████| 125/125 [03:58<00:00,  2.19s/it]\n"
     ]
    },
    {
     "name": "stdout",
     "output_type": "stream",
     "text": [
      "Iter 3, Loss= 3.356353, Training Accuracy= 0.06250\n",
      "Optimization Finished!\n"
     ]
    },
    {
     "name": "stderr",
     "output_type": "stream",
     "text": [
      "\r",
      "  0%|          | 0/125 [00:00<?, ?it/s]"
     ]
    },
    {
     "name": "stdout",
     "output_type": "stream",
     "text": [
      "Testing Accuracy: 0.06000\n"
     ]
    },
    {
     "name": "stderr",
     "output_type": "stream",
     "text": [
      "100%|██████████| 125/125 [04:49<00:00,  4.14s/it]\n"
     ]
    },
    {
     "name": "stdout",
     "output_type": "stream",
     "text": [
      "Iter 4, Loss= 3.356038, Training Accuracy= 0.06250\n",
      "Optimization Finished!\n"
     ]
    }
   ],
   "source": [
    "with tf.Session() as sess:\n",
    "    sess.run(init) \n",
    "    train_loss = []\n",
    "    test_loss = []\n",
    "    train_accuracy = []\n",
    "    test_accuracy = []\n",
    "    summary_writer = tf.summary.FileWriter('./Output', sess.graph)\n",
    "    for i in range(training_iters):\n",
    "#         train_X, train_y = shuffle(train_X,train_y, random_state = 0)\n",
    "        for batch in tqdm(range(len(train_X)//batch_size)):\n",
    "            batch_x = train_X[batch*batch_size:min((batch+1)*batch_size,len(train_X))]\n",
    "            batch_y = train_y[batch*batch_size:min((batch+1)*batch_size,len(train_y))]   \n",
    "            # Run optimization op (backprop).\n",
    "                # Calculate batch loss and accuracy\n",
    "            opt = sess.run(optimizer, feed_dict={x: batch_x,\n",
    "                                                              y: batch_y})\n",
    "            loss, acc = sess.run([cost, accuracy], feed_dict={x: batch_x,\n",
    "                                                              y: batch_y})\n",
    "        print(\"Iter \" + str(i) + \", Loss= \" + \\\n",
    "                      \"{:.6f}\".format(loss) + \", Training Accuracy= \" + \\\n",
    "                      \"{:.5f}\".format(acc))\n",
    "        print(\"Optimization Finished!\")\n",
    "\n",
    "        # Calculate accuracy for all 10000 mnist test images\n",
    "        test_acc,valid_loss = sess.run([accuracy,cost], feed_dict={x: test_X,y : test_y})\n",
    "        train_loss.append(loss)\n",
    "        test_loss.append(valid_loss)\n",
    "        train_accuracy.append(acc)\n",
    "        test_accuracy.append(test_acc)\n",
    "        print(\"Testing Accuracy:\",\"{:.5f}\".format(test_acc))\n",
    "    summary_writer.close()"
   ]
  },
  {
   "cell_type": "code",
   "execution_count": null,
   "metadata": {
    "collapsed": true
   },
   "outputs": [],
   "source": []
  },
  {
   "cell_type": "code",
   "execution_count": null,
   "metadata": {
    "collapsed": false
   },
   "outputs": [],
   "source": [
    "# Build the model\n",
    "def autoencoder(inputs):\n",
    "\n",
    "    # Encode\n",
    "    x =  tf.nn.conv2d(inputs, padding='SAME')\n",
    "    x = tf.nn.relu(alpha=0.02,x)\n",
    "    x = maxpool2d(x)\n",
    "    \n",
    "#    x = Conv2D(16, 5, padding='same')(x)\n",
    "#    x = LeakyReLU(alpha=0.02)(x)\n",
    "#    x = MaxPooling2D(padding='same')(x)\n",
    "    \n",
    "    x = Conv2D(8, 5, padding='same')(x)\n",
    "    x = LeakyReLU(alpha=0.02)(x)\n",
    "    encoded = MaxPooling2D(padding='same')(x)    \n",
    "    \n",
    "    # Decode\n",
    "    x = Conv2D(8, 5, padding='same')(encoded)\n",
    "    x = LeakyReLU(alpha=0.02)(x)\n",
    "    x = UpSampling2D()(x)\n",
    "    \n",
    "#    x = Conv2D(16, 5, padding='same')(x)\n",
    "#    x = LeakyReLU(alpha=0.02)(x)\n",
    "#    x = UpSampling2D()(x)\n",
    "    \n",
    "    x = Conv2D(32, 5, padding='same')(x) \n",
    "    x = LeakyReLU(alpha=0.02)(x)\n",
    "    x = UpSampling2D()(x)\n",
    "    \n",
    "    decoded = Conv2D(1, 3, activation='sigmoid', padding='same')(x)\n",
    "    \n",
    "    # Autoencoder\n",
    "    autoencoder = Model(inputs, decoded)\n",
    "    \n",
    "    # Compile\n",
    "    autoencoder.compile(optimizer='nadam', loss='binary_crossentropy')\n",
    "    \n",
    "    return autoencoder"
   ]
  }
 ],
 "metadata": {
  "kernelspec": {
   "display_name": "Python 3",
   "language": "python",
   "name": "python3"
  },
  "language_info": {
   "codemirror_mode": {
    "name": "ipython",
    "version": 3
   },
   "file_extension": ".py",
   "mimetype": "text/x-python",
   "name": "python",
   "nbconvert_exporter": "python",
   "pygments_lexer": "ipython3",
   "version": "3.6.0"
  }
 },
 "nbformat": 4,
 "nbformat_minor": 2
}
